{
 "cells": [
  {
   "cell_type": "code",
   "execution_count": 15,
   "metadata": {},
   "outputs": [
    {
     "data": {
      "text/html": [
       "<div>\n",
       "<style scoped>\n",
       "    .dataframe tbody tr th:only-of-type {\n",
       "        vertical-align: middle;\n",
       "    }\n",
       "\n",
       "    .dataframe tbody tr th {\n",
       "        vertical-align: top;\n",
       "    }\n",
       "\n",
       "    .dataframe thead th {\n",
       "        text-align: right;\n",
       "    }\n",
       "</style>\n",
       "<table border=\"1\" class=\"dataframe\">\n",
       "  <thead>\n",
       "    <tr style=\"text-align: right;\">\n",
       "      <th></th>\n",
       "      <th>Rank</th>\n",
       "      <th>Title</th>\n",
       "      <th>Year</th>\n",
       "      <th>Score</th>\n",
       "      <th>Metascore</th>\n",
       "      <th>Genre</th>\n",
       "      <th>Vote</th>\n",
       "      <th>Director</th>\n",
       "      <th>Runtime</th>\n",
       "      <th>Revenue</th>\n",
       "      <th>Description</th>\n",
       "      <th>Oscar</th>\n",
       "      <th>Befta</th>\n",
       "      <th>Globe</th>\n",
       "      <th>win</th>\n",
       "    </tr>\n",
       "  </thead>\n",
       "  <tbody>\n",
       "    <tr>\n",
       "      <th>0</th>\n",
       "      <td>3166</td>\n",
       "      <td>'71</td>\n",
       "      <td>2014</td>\n",
       "      <td>7.2</td>\n",
       "      <td>83.0</td>\n",
       "      <td>Action, Drama, Thriller</td>\n",
       "      <td>44532</td>\n",
       "      <td>Yann Demange</td>\n",
       "      <td>99</td>\n",
       "      <td>1.27</td>\n",
       "      <td>In 1971, a young and disorientated British sol...</td>\n",
       "      <td>-1.0</td>\n",
       "      <td>-1.0</td>\n",
       "      <td>-1.0</td>\n",
       "      <td>-1.0</td>\n",
       "    </tr>\n",
       "    <tr>\n",
       "      <th>1</th>\n",
       "      <td>6646</td>\n",
       "      <td>'A' gai wak</td>\n",
       "      <td>1983</td>\n",
       "      <td>7.4</td>\n",
       "      <td>-1.0</td>\n",
       "      <td>Action, Comedy</td>\n",
       "      <td>12657</td>\n",
       "      <td>Jackie Chan</td>\n",
       "      <td>105</td>\n",
       "      <td>-1.00</td>\n",
       "      <td>Fighting against pirates in \"old Hong Kong\". C...</td>\n",
       "      <td>-1.0</td>\n",
       "      <td>-1.0</td>\n",
       "      <td>-1.0</td>\n",
       "      <td>-1.0</td>\n",
       "    </tr>\n",
       "    <tr>\n",
       "      <th>2</th>\n",
       "      <td>8656</td>\n",
       "      <td>'A' gai wak 2</td>\n",
       "      <td>1987</td>\n",
       "      <td>7.2</td>\n",
       "      <td>-1.0</td>\n",
       "      <td>Action, Comedy, Crime</td>\n",
       "      <td>7739</td>\n",
       "      <td>Jackie Chan</td>\n",
       "      <td>101</td>\n",
       "      <td>-1.00</td>\n",
       "      <td>Dragon is now transferred to be the police hea...</td>\n",
       "      <td>-1.0</td>\n",
       "      <td>-1.0</td>\n",
       "      <td>-1.0</td>\n",
       "      <td>-1.0</td>\n",
       "    </tr>\n",
       "    <tr>\n",
       "      <th>3</th>\n",
       "      <td>9287</td>\n",
       "      <td>'I Know Where I'm Going!'</td>\n",
       "      <td>1945</td>\n",
       "      <td>7.6</td>\n",
       "      <td>-1.0</td>\n",
       "      <td>Drama, Romance</td>\n",
       "      <td>6861</td>\n",
       "      <td>Michael Powell</td>\n",
       "      <td>91</td>\n",
       "      <td>-1.00</td>\n",
       "      <td>A young Englishwoman goes to the Hebrides to m...</td>\n",
       "      <td>-1.0</td>\n",
       "      <td>-1.0</td>\n",
       "      <td>-1.0</td>\n",
       "      <td>-1.0</td>\n",
       "    </tr>\n",
       "    <tr>\n",
       "      <th>4</th>\n",
       "      <td>6795</td>\n",
       "      <td>(T)Raumschiff Surprise - Periode 1</td>\n",
       "      <td>2004</td>\n",
       "      <td>5.4</td>\n",
       "      <td>-1.0</td>\n",
       "      <td>Comedy, Sci-Fi</td>\n",
       "      <td>12158</td>\n",
       "      <td>Michael Herbig</td>\n",
       "      <td>87</td>\n",
       "      <td>-1.00</td>\n",
       "      <td>Three hundred years in the future, Mars is col...</td>\n",
       "      <td>-1.0</td>\n",
       "      <td>-1.0</td>\n",
       "      <td>-1.0</td>\n",
       "      <td>-1.0</td>\n",
       "    </tr>\n",
       "  </tbody>\n",
       "</table>\n",
       "</div>"
      ],
      "text/plain": [
       "   Rank                               Title  Year  Score  Metascore  \\\n",
       "0  3166                                 '71  2014    7.2       83.0   \n",
       "1  6646                         'A' gai wak  1983    7.4       -1.0   \n",
       "2  8656                       'A' gai wak 2  1987    7.2       -1.0   \n",
       "3  9287           'I Know Where I'm Going!'  1945    7.6       -1.0   \n",
       "4  6795  (T)Raumschiff Surprise - Periode 1  2004    5.4       -1.0   \n",
       "\n",
       "                     Genre   Vote        Director  Runtime  Revenue  \\\n",
       "0  Action, Drama, Thriller  44532    Yann Demange       99     1.27   \n",
       "1           Action, Comedy  12657     Jackie Chan      105    -1.00   \n",
       "2    Action, Comedy, Crime   7739     Jackie Chan      101    -1.00   \n",
       "3           Drama, Romance   6861  Michael Powell       91    -1.00   \n",
       "4           Comedy, Sci-Fi  12158  Michael Herbig       87    -1.00   \n",
       "\n",
       "                                         Description  Oscar  Befta  Globe  win  \n",
       "0  In 1971, a young and disorientated British sol...   -1.0   -1.0   -1.0 -1.0  \n",
       "1  Fighting against pirates in \"old Hong Kong\". C...   -1.0   -1.0   -1.0 -1.0  \n",
       "2  Dragon is now transferred to be the police hea...   -1.0   -1.0   -1.0 -1.0  \n",
       "3  A young Englishwoman goes to the Hebrides to m...   -1.0   -1.0   -1.0 -1.0  \n",
       "4  Three hundred years in the future, Mars is col...   -1.0   -1.0   -1.0 -1.0  "
      ]
     },
     "execution_count": 15,
     "metadata": {},
     "output_type": "execute_result"
    }
   ],
   "source": [
    "import pandas as pd\n",
    "import numpy as np\n",
    "import datetime\n",
    "Data=pd.read_csv('data_new.csv')\n",
    "Data.head()"
   ]
  },
  {
   "cell_type": "code",
   "execution_count": 5,
   "metadata": {},
   "outputs": [
    {
     "name": "stdout",
     "output_type": "stream",
     "text": [
      "<class 'pandas.core.frame.DataFrame'>\n",
      "Int64Index: 3000 entries, 9191 to 1193\n",
      "Data columns (total 15 columns):\n",
      " #   Column       Non-Null Count  Dtype  \n",
      "---  ------       --------------  -----  \n",
      " 0   Rank         3000 non-null   int64  \n",
      " 1   Title        3000 non-null   object \n",
      " 2   Year         3000 non-null   int64  \n",
      " 3   Score        3000 non-null   float64\n",
      " 4   Metascore    3000 non-null   float64\n",
      " 5   Genre        3000 non-null   object \n",
      " 6   Vote         3000 non-null   int64  \n",
      " 7   Director     3000 non-null   object \n",
      " 8   Runtime      3000 non-null   int64  \n",
      " 9   Revenue      3000 non-null   float64\n",
      " 10  Description  3000 non-null   object \n",
      " 11  Oscar        3000 non-null   float64\n",
      " 12  Befta        3000 non-null   float64\n",
      " 13  Globe        3000 non-null   float64\n",
      " 14  win          3000 non-null   float64\n",
      "dtypes: float64(7), int64(4), object(4)\n",
      "memory usage: 375.0+ KB\n"
     ]
    }
   ],
   "source": [
    "from sklearn.model_selection import train_test_split\n",
    "train, test = train_test_split(Data, test_size=0.3)\n",
    "test.info()"
   ]
  },
  {
   "cell_type": "code",
   "execution_count": 7,
   "metadata": {},
   "outputs": [
    {
     "data": {
      "text/plain": [
       "LogisticRegression(C=1.0, class_weight=None, dual=False, fit_intercept=True,\n",
       "                   intercept_scaling=1, l1_ratio=None, max_iter=100,\n",
       "                   multi_class='auto', n_jobs=None, penalty='l2',\n",
       "                   random_state=None, solver='lbfgs', tol=0.0001, verbose=0,\n",
       "                   warm_start=False)"
      ]
     },
     "execution_count": 7,
     "metadata": {},
     "output_type": "execute_result"
    }
   ],
   "source": [
    "from sklearn import metrics\n",
    "from sklearn.linear_model import LogisticRegression\n",
    "model = LogisticRegression()\n",
    "X=train[['Score', 'Revenue', 'Vote']]\n",
    "y=train.Oscar\n",
    "#X=train['Score']\n",
    "#y=train.winner\n",
    "model.fit(X, y)"
   ]
  },
  {
   "cell_type": "code",
   "execution_count": 8,
   "metadata": {},
   "outputs": [
    {
     "name": "stdout",
     "output_type": "stream",
     "text": [
      "              precision    recall  f1-score   support\n",
      "\n",
      "        -1.0       0.85      1.00      0.92      2537\n",
      "         0.0       0.27      0.02      0.04       293\n",
      "         1.0       0.50      0.04      0.07       170\n",
      "\n",
      "    accuracy                           0.85      3000\n",
      "   macro avg       0.54      0.35      0.34      3000\n",
      "weighted avg       0.78      0.85      0.78      3000\n",
      "\n",
      "[[   6    9  155]\n",
      " [   4    6  283]\n",
      " [   2    7 2528]]\n"
     ]
    }
   ],
   "source": [
    "expected = test.Oscar\n",
    "predicted = model.predict(test[['Score', 'Revenue', 'Vote']])\n",
    "# summarize the fit of the model\n",
    "print(metrics.classification_report(expected, predicted))\n",
    "print(metrics.confusion_matrix(expected, predicted,labels=[1,0,-1]))"
   ]
  },
  {
   "cell_type": "code",
   "execution_count": 16,
   "metadata": {},
   "outputs": [],
   "source": [
    "BinarData = Data\n",
    "d = {-1 : False, 0: False, 1: True}\n",
    "#BinarData[['win','Oscar','Befta','Globe']] = BinarData[['win','Oscar','Befta','Globe']].map(d)\n",
    "BinarData['win'] = BinarData['win'].map(d)\n",
    "BinarData['Oscar'] = BinarData['Oscar'].map(d)\n",
    "BinarData['Befta'] = BinarData['Befta'].map(d)\n",
    "BinarData['Globe'] = BinarData['Globe'].map(d)\n"
   ]
  },
  {
   "cell_type": "code",
   "execution_count": 23,
   "metadata": {},
   "outputs": [
    {
     "name": "stdout",
     "output_type": "stream",
     "text": [
      "<class 'pandas.core.frame.DataFrame'>\n",
      "Int64Index: 2000 entries, 4084 to 2146\n",
      "Data columns (total 15 columns):\n",
      " #   Column       Non-Null Count  Dtype  \n",
      "---  ------       --------------  -----  \n",
      " 0   Rank         2000 non-null   int64  \n",
      " 1   Title        2000 non-null   object \n",
      " 2   Year         2000 non-null   int64  \n",
      " 3   Score        2000 non-null   float64\n",
      " 4   Metascore    2000 non-null   float64\n",
      " 5   Genre        2000 non-null   object \n",
      " 6   Vote         2000 non-null   int64  \n",
      " 7   Director     2000 non-null   object \n",
      " 8   Runtime      2000 non-null   int64  \n",
      " 9   Revenue      2000 non-null   float64\n",
      " 10  Description  2000 non-null   object \n",
      " 11  Oscar        2000 non-null   bool   \n",
      " 12  Befta        2000 non-null   bool   \n",
      " 13  Globe        2000 non-null   bool   \n",
      " 14  win          2000 non-null   bool   \n",
      "dtypes: bool(4), float64(3), int64(4), object(4)\n",
      "memory usage: 195.3+ KB\n"
     ]
    }
   ],
   "source": [
    "train, test = train_test_split(BinarData, test_size=0.2)\n",
    "test.info()"
   ]
  },
  {
   "cell_type": "code",
   "execution_count": 24,
   "metadata": {},
   "outputs": [
    {
     "data": {
      "text/plain": [
       "LogisticRegression(C=1.0, class_weight=None, dual=False, fit_intercept=True,\n",
       "                   intercept_scaling=1, l1_ratio=None, max_iter=100,\n",
       "                   multi_class='auto', n_jobs=None, penalty='l2',\n",
       "                   random_state=None, solver='lbfgs', tol=0.0001, verbose=0,\n",
       "                   warm_start=False)"
      ]
     },
     "execution_count": 24,
     "metadata": {},
     "output_type": "execute_result"
    }
   ],
   "source": [
    "\n",
    "model = LogisticRegression()\n",
    "X=train[['Score', 'Revenue', 'Vote']]\n",
    "y=train.win\n",
    "#X=train['Score']\n",
    "#y=train.winner\n",
    "model.fit(X, y)"
   ]
  },
  {
   "cell_type": "code",
   "execution_count": 25,
   "metadata": {},
   "outputs": [
    {
     "name": "stdout",
     "output_type": "stream",
     "text": [
      "              precision    recall  f1-score   support\n",
      "\n",
      "       False       0.92      1.00      0.96      1845\n",
      "        True       0.71      0.03      0.06       155\n",
      "\n",
      "    accuracy                           0.92      2000\n",
      "   macro avg       0.82      0.52      0.51      2000\n",
      "weighted avg       0.91      0.92      0.89      2000\n",
      "\n",
      "[[   5  150]\n",
      " [   2 1843]]\n"
     ]
    }
   ],
   "source": [
    "expected = test.win\n",
    "predicted = model.predict(test[['Score', 'Revenue', 'Vote']])\n",
    "# summarize the fit of the model\n",
    "print(metrics.classification_report(expected, predicted))\n",
    "print(metrics.confusion_matrix(expected, predicted,labels=[True,False]))"
   ]
  },
  {
   "cell_type": "code",
   "execution_count": null,
   "metadata": {},
   "outputs": [],
   "source": []
  }
 ],
 "metadata": {
  "kernelspec": {
   "display_name": "Python 3",
   "language": "python",
   "name": "python3"
  },
  "language_info": {
   "codemirror_mode": {
    "name": "ipython",
    "version": 3
   },
   "file_extension": ".py",
   "mimetype": "text/x-python",
   "name": "python",
   "nbconvert_exporter": "python",
   "pygments_lexer": "ipython3",
   "version": "3.7.6"
  }
 },
 "nbformat": 4,
 "nbformat_minor": 4
}
