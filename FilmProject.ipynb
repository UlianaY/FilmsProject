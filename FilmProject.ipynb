{
 "cells": [
  {
   "cell_type": "markdown",
   "metadata": {},
   "source": [
    "# Working with Data Sets\n"
   ]
  },
  {
   "cell_type": "code",
   "execution_count": 1,
   "metadata": {},
   "outputs": [],
   "source": [
    "import pandas as pd\n",
    "import numpy as np\n",
    "import datetime"
   ]
  },
  {
   "cell_type": "code",
   "execution_count": 2,
   "metadata": {
    "scrolled": true
   },
   "outputs": [],
   "source": [
    "Films=pd.read_csv('datasets\\movies.csv', sep=',',decimal=\".\")"
   ]
  },
  {
   "cell_type": "code",
   "execution_count": 4,
   "metadata": {},
   "outputs": [
    {
     "data": {
      "text/html": [
       "<div>\n",
       "<style scoped>\n",
       "    .dataframe tbody tr th:only-of-type {\n",
       "        vertical-align: middle;\n",
       "    }\n",
       "\n",
       "    .dataframe tbody tr th {\n",
       "        vertical-align: top;\n",
       "    }\n",
       "\n",
       "    .dataframe thead th {\n",
       "        text-align: right;\n",
       "    }\n",
       "</style>\n",
       "<table border=\"1\" class=\"dataframe\">\n",
       "  <thead>\n",
       "    <tr style=\"text-align: right;\">\n",
       "      <th></th>\n",
       "      <th>Rank</th>\n",
       "      <th>Title</th>\n",
       "      <th>Year</th>\n",
       "      <th>Score</th>\n",
       "      <th>Metascore</th>\n",
       "      <th>Genre</th>\n",
       "      <th>Vote</th>\n",
       "      <th>Director</th>\n",
       "      <th>Runtime</th>\n",
       "      <th>Revenue</th>\n",
       "      <th>Description</th>\n",
       "    </tr>\n",
       "  </thead>\n",
       "  <tbody>\n",
       "    <tr>\n",
       "      <th>0</th>\n",
       "      <td>1</td>\n",
       "      <td>The Shawshank Redemption</td>\n",
       "      <td>1994</td>\n",
       "      <td>9.3</td>\n",
       "      <td>80.0</td>\n",
       "      <td>Drama</td>\n",
       "      <td>2011509</td>\n",
       "      <td>Frank Darabont</td>\n",
       "      <td>142</td>\n",
       "      <td>28.34</td>\n",
       "      <td>Two imprisoned men bond over a number of years...</td>\n",
       "    </tr>\n",
       "    <tr>\n",
       "      <th>1</th>\n",
       "      <td>2</td>\n",
       "      <td>The Dark Knight</td>\n",
       "      <td>2008</td>\n",
       "      <td>9.0</td>\n",
       "      <td>84.0</td>\n",
       "      <td>Action, Crime, Drama</td>\n",
       "      <td>1980200</td>\n",
       "      <td>Christopher Nolan</td>\n",
       "      <td>152</td>\n",
       "      <td>534.86</td>\n",
       "      <td>When the menace known as the Joker emerges fro...</td>\n",
       "    </tr>\n",
       "    <tr>\n",
       "      <th>2</th>\n",
       "      <td>3</td>\n",
       "      <td>Inception</td>\n",
       "      <td>2010</td>\n",
       "      <td>8.8</td>\n",
       "      <td>74.0</td>\n",
       "      <td>Action, Adventure, Sci-Fi</td>\n",
       "      <td>1760209</td>\n",
       "      <td>Christopher Nolan</td>\n",
       "      <td>148</td>\n",
       "      <td>292.58</td>\n",
       "      <td>A thief who steals corporate secrets through t...</td>\n",
       "    </tr>\n",
       "    <tr>\n",
       "      <th>3</th>\n",
       "      <td>4</td>\n",
       "      <td>Fight Club</td>\n",
       "      <td>1999</td>\n",
       "      <td>8.8</td>\n",
       "      <td>66.0</td>\n",
       "      <td>Drama</td>\n",
       "      <td>1609459</td>\n",
       "      <td>David Fincher</td>\n",
       "      <td>139</td>\n",
       "      <td>37.03</td>\n",
       "      <td>An insomniac office worker and a devil-may-car...</td>\n",
       "    </tr>\n",
       "    <tr>\n",
       "      <th>4</th>\n",
       "      <td>5</td>\n",
       "      <td>Pulp Fiction</td>\n",
       "      <td>1994</td>\n",
       "      <td>8.9</td>\n",
       "      <td>94.0</td>\n",
       "      <td>Crime, Drama</td>\n",
       "      <td>1570194</td>\n",
       "      <td>Quentin Tarantino</td>\n",
       "      <td>154</td>\n",
       "      <td>107.93</td>\n",
       "      <td>The lives of two mob hitmen, a boxer, a gangst...</td>\n",
       "    </tr>\n",
       "  </tbody>\n",
       "</table>\n",
       "</div>"
      ],
      "text/plain": [
       "   Rank                     Title  Year  Score  Metascore  \\\n",
       "0     1  The Shawshank Redemption  1994    9.3       80.0   \n",
       "1     2           The Dark Knight  2008    9.0       84.0   \n",
       "2     3                 Inception  2010    8.8       74.0   \n",
       "3     4                Fight Club  1999    8.8       66.0   \n",
       "4     5              Pulp Fiction  1994    8.9       94.0   \n",
       "\n",
       "                       Genre     Vote           Director  Runtime  Revenue  \\\n",
       "0                      Drama  2011509     Frank Darabont      142    28.34   \n",
       "1       Action, Crime, Drama  1980200  Christopher Nolan      152   534.86   \n",
       "2  Action, Adventure, Sci-Fi  1760209  Christopher Nolan      148   292.58   \n",
       "3                      Drama  1609459      David Fincher      139    37.03   \n",
       "4               Crime, Drama  1570194  Quentin Tarantino      154   107.93   \n",
       "\n",
       "                                         Description  \n",
       "0  Two imprisoned men bond over a number of years...  \n",
       "1  When the menace known as the Joker emerges fro...  \n",
       "2  A thief who steals corporate secrets through t...  \n",
       "3  An insomniac office worker and a devil-may-car...  \n",
       "4  The lives of two mob hitmen, a boxer, a gangst...  "
      ]
     },
     "execution_count": 4,
     "metadata": {},
     "output_type": "execute_result"
    }
   ],
   "source": [
    "Films.head()"
   ]
  },
  {
   "cell_type": "code",
   "execution_count": 3,
   "metadata": {},
   "outputs": [],
   "source": [
    "Oscar=pd.read_csv('datasets/the_oscar_award.csv')"
   ]
  },
  {
   "cell_type": "code",
   "execution_count": 5,
   "metadata": {},
   "outputs": [
    {
     "data": {
      "text/html": [
       "<div>\n",
       "<style scoped>\n",
       "    .dataframe tbody tr th:only-of-type {\n",
       "        vertical-align: middle;\n",
       "    }\n",
       "\n",
       "    .dataframe tbody tr th {\n",
       "        vertical-align: top;\n",
       "    }\n",
       "\n",
       "    .dataframe thead th {\n",
       "        text-align: right;\n",
       "    }\n",
       "</style>\n",
       "<table border=\"1\" class=\"dataframe\">\n",
       "  <thead>\n",
       "    <tr style=\"text-align: right;\">\n",
       "      <th></th>\n",
       "      <th>year_film</th>\n",
       "      <th>year_ceremony</th>\n",
       "      <th>ceremony</th>\n",
       "      <th>category</th>\n",
       "      <th>name</th>\n",
       "      <th>film</th>\n",
       "      <th>winner</th>\n",
       "    </tr>\n",
       "  </thead>\n",
       "  <tbody>\n",
       "    <tr>\n",
       "      <th>0</th>\n",
       "      <td>1927</td>\n",
       "      <td>1928</td>\n",
       "      <td>1</td>\n",
       "      <td>ACTOR</td>\n",
       "      <td>Richard Barthelmess</td>\n",
       "      <td>The Noose</td>\n",
       "      <td>False</td>\n",
       "    </tr>\n",
       "    <tr>\n",
       "      <th>1</th>\n",
       "      <td>1927</td>\n",
       "      <td>1928</td>\n",
       "      <td>1</td>\n",
       "      <td>ACTOR</td>\n",
       "      <td>Emil Jannings</td>\n",
       "      <td>The Last Command</td>\n",
       "      <td>True</td>\n",
       "    </tr>\n",
       "    <tr>\n",
       "      <th>2</th>\n",
       "      <td>1927</td>\n",
       "      <td>1928</td>\n",
       "      <td>1</td>\n",
       "      <td>ACTRESS</td>\n",
       "      <td>Louise Dresser</td>\n",
       "      <td>A Ship Comes In</td>\n",
       "      <td>False</td>\n",
       "    </tr>\n",
       "    <tr>\n",
       "      <th>3</th>\n",
       "      <td>1927</td>\n",
       "      <td>1928</td>\n",
       "      <td>1</td>\n",
       "      <td>ACTRESS</td>\n",
       "      <td>Janet Gaynor</td>\n",
       "      <td>7th Heaven</td>\n",
       "      <td>True</td>\n",
       "    </tr>\n",
       "    <tr>\n",
       "      <th>4</th>\n",
       "      <td>1927</td>\n",
       "      <td>1928</td>\n",
       "      <td>1</td>\n",
       "      <td>ACTRESS</td>\n",
       "      <td>Gloria Swanson</td>\n",
       "      <td>Sadie Thompson</td>\n",
       "      <td>False</td>\n",
       "    </tr>\n",
       "  </tbody>\n",
       "</table>\n",
       "</div>"
      ],
      "text/plain": [
       "   year_film  year_ceremony  ceremony category                 name  \\\n",
       "0       1927           1928         1    ACTOR  Richard Barthelmess   \n",
       "1       1927           1928         1    ACTOR        Emil Jannings   \n",
       "2       1927           1928         1  ACTRESS       Louise Dresser   \n",
       "3       1927           1928         1  ACTRESS         Janet Gaynor   \n",
       "4       1927           1928         1  ACTRESS       Gloria Swanson   \n",
       "\n",
       "               film  winner  \n",
       "0         The Noose   False  \n",
       "1  The Last Command    True  \n",
       "2   A Ship Comes In   False  \n",
       "3        7th Heaven    True  \n",
       "4    Sadie Thompson   False  "
      ]
     },
     "execution_count": 5,
     "metadata": {},
     "output_type": "execute_result"
    }
   ],
   "source": [
    "Oscar.head()"
   ]
  },
  {
   "cell_type": "code",
   "execution_count": 8,
   "metadata": {},
   "outputs": [
    {
     "data": {
      "text/html": [
       "<div>\n",
       "<style scoped>\n",
       "    .dataframe tbody tr th:only-of-type {\n",
       "        vertical-align: middle;\n",
       "    }\n",
       "\n",
       "    .dataframe tbody tr th {\n",
       "        vertical-align: top;\n",
       "    }\n",
       "\n",
       "    .dataframe thead th {\n",
       "        text-align: right;\n",
       "    }\n",
       "</style>\n",
       "<table border=\"1\" class=\"dataframe\">\n",
       "  <thead>\n",
       "    <tr style=\"text-align: right;\">\n",
       "      <th></th>\n",
       "      <th>year</th>\n",
       "      <th>category</th>\n",
       "      <th>nominee</th>\n",
       "      <th>workers</th>\n",
       "      <th>winner</th>\n",
       "    </tr>\n",
       "  </thead>\n",
       "  <tbody>\n",
       "    <tr>\n",
       "      <th>0</th>\n",
       "      <td>1949</td>\n",
       "      <td>Film | British Film in 1949</td>\n",
       "      <td>The Fallen Idol</td>\n",
       "      <td>NaN</td>\n",
       "      <td>True</td>\n",
       "    </tr>\n",
       "    <tr>\n",
       "      <th>1</th>\n",
       "      <td>1949</td>\n",
       "      <td>Film | British Film in 1949</td>\n",
       "      <td>Hamlet</td>\n",
       "      <td>NaN</td>\n",
       "      <td>False</td>\n",
       "    </tr>\n",
       "    <tr>\n",
       "      <th>2</th>\n",
       "      <td>1949</td>\n",
       "      <td>Film | British Film in 1949</td>\n",
       "      <td>Oliver Twist</td>\n",
       "      <td>NaN</td>\n",
       "      <td>False</td>\n",
       "    </tr>\n",
       "    <tr>\n",
       "      <th>3</th>\n",
       "      <td>1949</td>\n",
       "      <td>Film | British Film in 1949</td>\n",
       "      <td>Once A Jolly Swagman</td>\n",
       "      <td>NaN</td>\n",
       "      <td>False</td>\n",
       "    </tr>\n",
       "    <tr>\n",
       "      <th>4</th>\n",
       "      <td>1949</td>\n",
       "      <td>Film | British Film in 1949</td>\n",
       "      <td>The Red Shoes</td>\n",
       "      <td>NaN</td>\n",
       "      <td>False</td>\n",
       "    </tr>\n",
       "  </tbody>\n",
       "</table>\n",
       "</div>"
      ],
      "text/plain": [
       "   year                     category               nominee workers  winner\n",
       "0  1949  Film | British Film in 1949       The Fallen Idol     NaN    True\n",
       "1  1949  Film | British Film in 1949                Hamlet     NaN   False\n",
       "2  1949  Film | British Film in 1949          Oliver Twist     NaN   False\n",
       "3  1949  Film | British Film in 1949  Once A Jolly Swagman     NaN   False\n",
       "4  1949  Film | British Film in 1949         The Red Shoes     NaN   False"
      ]
     },
     "execution_count": 8,
     "metadata": {},
     "output_type": "execute_result"
    }
   ],
   "source": [
    "Befta=pd.read_csv('datasets/bafta_films.csv')\n",
    "Befta.head()"
   ]
  },
  {
   "cell_type": "code",
   "execution_count": 9,
   "metadata": {},
   "outputs": [
    {
     "data": {
      "text/html": [
       "<div>\n",
       "<style scoped>\n",
       "    .dataframe tbody tr th:only-of-type {\n",
       "        vertical-align: middle;\n",
       "    }\n",
       "\n",
       "    .dataframe tbody tr th {\n",
       "        vertical-align: top;\n",
       "    }\n",
       "\n",
       "    .dataframe thead th {\n",
       "        text-align: right;\n",
       "    }\n",
       "</style>\n",
       "<table border=\"1\" class=\"dataframe\">\n",
       "  <thead>\n",
       "    <tr style=\"text-align: right;\">\n",
       "      <th></th>\n",
       "      <th>year_film</th>\n",
       "      <th>year_award</th>\n",
       "      <th>ceremony</th>\n",
       "      <th>category</th>\n",
       "      <th>nominee</th>\n",
       "      <th>film</th>\n",
       "      <th>win</th>\n",
       "    </tr>\n",
       "  </thead>\n",
       "  <tbody>\n",
       "    <tr>\n",
       "      <th>0</th>\n",
       "      <td>1943</td>\n",
       "      <td>1944</td>\n",
       "      <td>1</td>\n",
       "      <td>Best Performance by an Actress in a Supporting...</td>\n",
       "      <td>Katina Paxinou</td>\n",
       "      <td>For Whom The Bell Tolls</td>\n",
       "      <td>True</td>\n",
       "    </tr>\n",
       "    <tr>\n",
       "      <th>1</th>\n",
       "      <td>1943</td>\n",
       "      <td>1944</td>\n",
       "      <td>1</td>\n",
       "      <td>Best Performance by an Actor in a Supporting R...</td>\n",
       "      <td>Akim Tamiroff</td>\n",
       "      <td>For Whom The Bell Tolls</td>\n",
       "      <td>True</td>\n",
       "    </tr>\n",
       "    <tr>\n",
       "      <th>2</th>\n",
       "      <td>1943</td>\n",
       "      <td>1944</td>\n",
       "      <td>1</td>\n",
       "      <td>Best Director - Motion Picture</td>\n",
       "      <td>Henry King</td>\n",
       "      <td>The Song Of Bernadette</td>\n",
       "      <td>True</td>\n",
       "    </tr>\n",
       "    <tr>\n",
       "      <th>3</th>\n",
       "      <td>1943</td>\n",
       "      <td>1944</td>\n",
       "      <td>1</td>\n",
       "      <td>Picture</td>\n",
       "      <td>The Song Of Bernadette</td>\n",
       "      <td>NaN</td>\n",
       "      <td>True</td>\n",
       "    </tr>\n",
       "    <tr>\n",
       "      <th>4</th>\n",
       "      <td>1943</td>\n",
       "      <td>1944</td>\n",
       "      <td>1</td>\n",
       "      <td>Actress In A Leading Role</td>\n",
       "      <td>Jennifer Jones</td>\n",
       "      <td>The Song Of Bernadette</td>\n",
       "      <td>True</td>\n",
       "    </tr>\n",
       "  </tbody>\n",
       "</table>\n",
       "</div>"
      ],
      "text/plain": [
       "   year_film  year_award  ceremony  \\\n",
       "0       1943        1944         1   \n",
       "1       1943        1944         1   \n",
       "2       1943        1944         1   \n",
       "3       1943        1944         1   \n",
       "4       1943        1944         1   \n",
       "\n",
       "                                            category                 nominee  \\\n",
       "0  Best Performance by an Actress in a Supporting...          Katina Paxinou   \n",
       "1  Best Performance by an Actor in a Supporting R...           Akim Tamiroff   \n",
       "2                     Best Director - Motion Picture              Henry King   \n",
       "3                                            Picture  The Song Of Bernadette   \n",
       "4                          Actress In A Leading Role          Jennifer Jones   \n",
       "\n",
       "                      film   win  \n",
       "0  For Whom The Bell Tolls  True  \n",
       "1  For Whom The Bell Tolls  True  \n",
       "2   The Song Of Bernadette  True  \n",
       "3                      NaN  True  \n",
       "4   The Song Of Bernadette  True  "
      ]
     },
     "execution_count": 9,
     "metadata": {},
     "output_type": "execute_result"
    }
   ],
   "source": [
    "Globe=pd.read_csv('datasets/golden_globe_awards.csv')\n",
    "Globe.head()"
   ]
  },
  {
   "cell_type": "markdown",
   "metadata": {},
   "source": [
    "### Первый данные с фильмами не достаточны для нас, так как там нет записи об актерах, которые нужны для оценки популярности фильма\n"
   ]
  },
  {
   "cell_type": "code",
   "execution_count": 68,
   "metadata": {},
   "outputs": [
    {
     "name": "stdout",
     "output_type": "stream",
     "text": [
      "<class 'pandas.core.frame.DataFrame'>\n",
      "Int64Index: 13521 entries, 0 to 13520\n",
      "Data columns (total 14 columns):\n",
      " #   Column       Non-Null Count  Dtype  \n",
      "---  ------       --------------  -----  \n",
      " 0   Rank         13521 non-null  int64  \n",
      " 1   Title        13521 non-null  object \n",
      " 2   Year         13521 non-null  int64  \n",
      " 3   Score        13521 non-null  float64\n",
      " 4   Metascore    9253 non-null   float64\n",
      " 5   Genre        13521 non-null  object \n",
      " 6   Vote         13521 non-null  int64  \n",
      " 7   Director     13520 non-null  object \n",
      " 8   Runtime      13521 non-null  int64  \n",
      " 9   Revenue      10359 non-null  float64\n",
      " 10  Description  13521 non-null  object \n",
      " 11  year_film    5030 non-null   float64\n",
      " 12  film         5030 non-null   object \n",
      " 13  winner       5030 non-null   object \n",
      "dtypes: float64(4), int64(4), object(6)\n",
      "memory usage: 1.5+ MB\n"
     ]
    }
   ],
   "source": [
    "oscartable = pd.merge(left=Films, right=Oscar[['year_film', 'film','winner']], left_on= ['Title','Year'], right_on =['film','year_film'], how='left')\n",
    "oscartable.info()"
   ]
  },
  {
   "cell_type": "code",
   "execution_count": 69,
   "metadata": {},
   "outputs": [],
   "source": [
    "# заменяем на 1 и 0 в колонке winner\n",
    "d = {False : 0, True : 1}\n",
    "oscartable['winner'] = oscartable['winner'].map(d)\n",
    "\n",
    "#находим индексы нулевых строк которые нужно заполнить\n",
    "all_indexes = oscartable[oscartable.winner.isnull()].index\n",
    "oscartable.loc[all_indexes, 'year_film':'winner'] = -1\n",
    "\n",
    "#удаляем ненужные столбцы\n",
    "oscartable.drop(['year_film', 'film'], axis='columns', inplace=True)\n",
    "#называем winner в oscar\n",
    "oscartable.rename(columns={'winner': 'Oscar'}, inplace=True)"
   ]
  },
  {
   "cell_type": "code",
   "execution_count": 70,
   "metadata": {},
   "outputs": [
    {
     "name": "stdout",
     "output_type": "stream",
     "text": [
      "<class 'pandas.core.frame.DataFrame'>\n",
      "Int64Index: 13521 entries, 0 to 13520\n",
      "Data columns (total 12 columns):\n",
      " #   Column       Non-Null Count  Dtype  \n",
      "---  ------       --------------  -----  \n",
      " 0   Rank         13521 non-null  int64  \n",
      " 1   Title        13521 non-null  object \n",
      " 2   Year         13521 non-null  int64  \n",
      " 3   Score        13521 non-null  float64\n",
      " 4   Metascore    13521 non-null  float64\n",
      " 5   Genre        13521 non-null  object \n",
      " 6   Vote         13521 non-null  int64  \n",
      " 7   Director     13521 non-null  object \n",
      " 8   Runtime      13521 non-null  int64  \n",
      " 9   Revenue      13521 non-null  float64\n",
      " 10  Description  13521 non-null  object \n",
      " 11  Oscar        13521 non-null  float64\n",
      "dtypes: float64(4), int64(4), object(4)\n",
      "memory usage: 2.0+ MB\n"
     ]
    }
   ],
   "source": [
    "# заполняем нулевые значения в других колонках \n",
    "metascore_indexes = oscartable[oscartable.Metascore.isnull()].index\n",
    "oscartable.loc[metascore_indexes, 'Metascore'] = -1\n",
    "revenue_indexes = oscartable[oscartable.Revenue.isnull()].index\n",
    "oscartable.loc[revenue_indexes, 'Revenue'] = -1\n",
    "# у одного фильма не указан режисер, помечаем это\n",
    "director_indexes = oscartable[oscartable.Director.isnull()].index\n",
    "oscartable.loc[director_indexes, 'Director'] = 'No info'\n",
    "oscartable.info()"
   ]
  },
  {
   "cell_type": "code",
   "execution_count": 71,
   "metadata": {},
   "outputs": [
    {
     "name": "stdout",
     "output_type": "stream",
     "text": [
      "<class 'pandas.core.frame.DataFrame'>\n",
      "Int64Index: 9999 entries, 5348 to 8512\n",
      "Data columns (total 12 columns):\n",
      " #   Column       Non-Null Count  Dtype  \n",
      "---  ------       --------------  -----  \n",
      " 0   Rank         9999 non-null   int64  \n",
      " 1   Title        9999 non-null   object \n",
      " 2   Year         9999 non-null   int64  \n",
      " 3   Score        9999 non-null   float64\n",
      " 4   Metascore    9999 non-null   float64\n",
      " 5   Genre        9999 non-null   object \n",
      " 6   Vote         9999 non-null   int64  \n",
      " 7   Director     9999 non-null   object \n",
      " 8   Runtime      9999 non-null   int64  \n",
      " 9   Revenue      9999 non-null   float64\n",
      " 10  Description  9999 non-null   object \n",
      " 11  Oscar        9999 non-null   float64\n",
      "dtypes: float64(4), int64(4), object(4)\n",
      "memory usage: 1015.5+ KB\n"
     ]
    }
   ],
   "source": [
    "# сортируем по названию и победил/номинант/не номинант, для сортировки\n",
    "oscartable=oscartable.sort_values(by=['Title', 'Oscar'], ascending=[True, False])\n",
    "#тестовая проверка\n",
    "#oscartable[oscartable['Title'] == 'The Dark Knight']\n",
    "#удаляем дубли из-за разных номинацихй\n",
    "oscartable.drop_duplicates(subset=['Title', 'Year'], \n",
    "                     keep = 'first', inplace = True)\n",
    "#тестовая проверка\n",
    "#oscartable[oscartable['Title'] == 'The Dark Knight']\n",
    "fulltable = oscartable\n",
    "fulltable.info()"
   ]
  },
  {
   "cell_type": "markdown",
   "metadata": {},
   "source": [
    "## Делаем тоже самое для других премий "
   ]
  },
  {
   "cell_type": "code",
   "execution_count": 72,
   "metadata": {},
   "outputs": [
    {
     "name": "stdout",
     "output_type": "stream",
     "text": [
      "<class 'pandas.core.frame.DataFrame'>\n",
      "Int64Index: 10695 entries, 0 to 10694\n",
      "Data columns (total 14 columns):\n",
      " #   Column       Non-Null Count  Dtype  \n",
      "---  ------       --------------  -----  \n",
      " 0   Rank         10695 non-null  int64  \n",
      " 1   Title        10695 non-null  object \n",
      " 2   Year         10695 non-null  int64  \n",
      " 3   Score        10695 non-null  float64\n",
      " 4   Metascore    10695 non-null  float64\n",
      " 5   Genre        10695 non-null  object \n",
      " 6   Vote         10695 non-null  int64  \n",
      " 7   Director     10695 non-null  object \n",
      " 8   Runtime      10695 non-null  int64  \n",
      " 9   Revenue      10695 non-null  float64\n",
      " 10  Description  10695 non-null  object \n",
      " 11  Oscar        10695 non-null  float64\n",
      " 12  nominee      1149 non-null   object \n",
      " 13  winner       1149 non-null   object \n",
      "dtypes: float64(4), int64(4), object(6)\n",
      "memory usage: 1.2+ MB\n"
     ]
    }
   ],
   "source": [
    "beftatable = pd.merge(left=fulltable, right=Befta[[ 'nominee','winner']], left_on= ['Title'], right_on =['nominee'], how='left')\n",
    "beftatable.info()"
   ]
  },
  {
   "cell_type": "code",
   "execution_count": 73,
   "metadata": {},
   "outputs": [
    {
     "name": "stdout",
     "output_type": "stream",
     "text": [
      "<class 'pandas.core.frame.DataFrame'>\n",
      "Int64Index: 10695 entries, 0 to 10694\n",
      "Data columns (total 13 columns):\n",
      " #   Column       Non-Null Count  Dtype  \n",
      "---  ------       --------------  -----  \n",
      " 0   Rank         10695 non-null  int64  \n",
      " 1   Title        10695 non-null  object \n",
      " 2   Year         10695 non-null  int64  \n",
      " 3   Score        10695 non-null  float64\n",
      " 4   Metascore    10695 non-null  float64\n",
      " 5   Genre        10695 non-null  object \n",
      " 6   Vote         10695 non-null  int64  \n",
      " 7   Director     10695 non-null  object \n",
      " 8   Runtime      10695 non-null  int64  \n",
      " 9   Revenue      10695 non-null  float64\n",
      " 10  Description  10695 non-null  object \n",
      " 11  Oscar        10695 non-null  float64\n",
      " 12  Befta        10695 non-null  float64\n",
      "dtypes: float64(5), int64(4), object(4)\n",
      "memory usage: 1.1+ MB\n"
     ]
    }
   ],
   "source": [
    "# заменяем на 1 и 0 в колонке winner\n",
    "d = {False : 0, True : 1}\n",
    "beftatable['winner'] = beftatable['winner'].map(d)\n",
    "#удаляем ненужные столбцы\n",
    "beftatable.drop(['nominee'], axis='columns', inplace=True)\n",
    "\n",
    "#находим индексы нулевых строк которые нужно заполнить\n",
    "all_indexes = beftatable[beftatable.winner.isnull()].index\n",
    "beftatable.loc[all_indexes, 'winner'] = -1\n",
    "\n",
    "#называем winner в Befta\n",
    "beftatable.rename(columns={'winner': 'Befta'}, inplace=True)\n",
    "beftatable.info()"
   ]
  },
  {
   "cell_type": "code",
   "execution_count": 74,
   "metadata": {},
   "outputs": [
    {
     "name": "stdout",
     "output_type": "stream",
     "text": [
      "<class 'pandas.core.frame.DataFrame'>\n",
      "Int64Index: 9999 entries, 0 to 10694\n",
      "Data columns (total 13 columns):\n",
      " #   Column       Non-Null Count  Dtype  \n",
      "---  ------       --------------  -----  \n",
      " 0   Rank         9999 non-null   int64  \n",
      " 1   Title        9999 non-null   object \n",
      " 2   Year         9999 non-null   int64  \n",
      " 3   Score        9999 non-null   float64\n",
      " 4   Metascore    9999 non-null   float64\n",
      " 5   Genre        9999 non-null   object \n",
      " 6   Vote         9999 non-null   int64  \n",
      " 7   Director     9999 non-null   object \n",
      " 8   Runtime      9999 non-null   int64  \n",
      " 9   Revenue      9999 non-null   float64\n",
      " 10  Description  9999 non-null   object \n",
      " 11  Oscar        9999 non-null   float64\n",
      " 12  Befta        9999 non-null   float64\n",
      "dtypes: float64(5), int64(4), object(4)\n",
      "memory usage: 1.1+ MB\n"
     ]
    }
   ],
   "source": [
    "# сортируем по названию и победил/номинант/не номинант, для сортировки\n",
    "beftatable=beftatable.sort_values(by=['Title', 'Befta'], ascending=[True, False])\n",
    "#тестовая проверка\n",
    "#oscartable[oscartable['Title'] == 'The Dark Knight']\n",
    "#удаляем дубли из-за разных номинаций\n",
    "beftatable.drop_duplicates(subset =['Title', 'Year'], \n",
    "                     keep = 'first', inplace = True)\n",
    "#тестовая проверка\n",
    "#oscartable[oscartable['Title'] == 'The Dark Knight']\n",
    "fulltable = beftatable\n",
    "#должно быть 9699\n",
    "fulltable.info()"
   ]
  },
  {
   "cell_type": "code",
   "execution_count": null,
   "metadata": {},
   "outputs": [],
   "source": []
  },
  {
   "cell_type": "code",
   "execution_count": 75,
   "metadata": {},
   "outputs": [
    {
     "name": "stdout",
     "output_type": "stream",
     "text": [
      "<class 'pandas.core.frame.DataFrame'>\n",
      "Int64Index: 11025 entries, 0 to 11024\n",
      "Data columns (total 16 columns):\n",
      " #   Column       Non-Null Count  Dtype  \n",
      "---  ------       --------------  -----  \n",
      " 0   Rank         11025 non-null  int64  \n",
      " 1   Title        11025 non-null  object \n",
      " 2   Year         11025 non-null  int64  \n",
      " 3   Score        11025 non-null  float64\n",
      " 4   Metascore    11025 non-null  float64\n",
      " 5   Genre        11025 non-null  object \n",
      " 6   Vote         11025 non-null  int64  \n",
      " 7   Director     11025 non-null  object \n",
      " 8   Runtime      11025 non-null  int64  \n",
      " 9   Revenue      11025 non-null  float64\n",
      " 10  Description  11025 non-null  object \n",
      " 11  Oscar        11025 non-null  float64\n",
      " 12  Befta        11025 non-null  float64\n",
      " 13  year_film    1916 non-null   float64\n",
      " 14  film         1916 non-null   object \n",
      " 15  win          1916 non-null   object \n",
      "dtypes: float64(6), int64(4), object(6)\n",
      "memory usage: 1.4+ MB\n"
     ]
    }
   ],
   "source": [
    "globetable = pd.merge(left=fulltable, right=Globe[['year_film', 'film','win']], left_on= ['Title','Year'], right_on =['film','year_film'], how='left')\n",
    "globetable.info()"
   ]
  },
  {
   "cell_type": "code",
   "execution_count": 76,
   "metadata": {},
   "outputs": [
    {
     "name": "stdout",
     "output_type": "stream",
     "text": [
      "<class 'pandas.core.frame.DataFrame'>\n",
      "Int64Index: 11025 entries, 0 to 11024\n",
      "Data columns (total 14 columns):\n",
      " #   Column       Non-Null Count  Dtype  \n",
      "---  ------       --------------  -----  \n",
      " 0   Rank         11025 non-null  int64  \n",
      " 1   Title        11025 non-null  object \n",
      " 2   Year         11025 non-null  int64  \n",
      " 3   Score        11025 non-null  float64\n",
      " 4   Metascore    11025 non-null  float64\n",
      " 5   Genre        11025 non-null  object \n",
      " 6   Vote         11025 non-null  int64  \n",
      " 7   Director     11025 non-null  object \n",
      " 8   Runtime      11025 non-null  int64  \n",
      " 9   Revenue      11025 non-null  float64\n",
      " 10  Description  11025 non-null  object \n",
      " 11  Oscar        11025 non-null  float64\n",
      " 12  Befta        11025 non-null  float64\n",
      " 13  Globe        11025 non-null  float64\n",
      "dtypes: float64(6), int64(4), object(4)\n",
      "memory usage: 1.3+ MB\n"
     ]
    }
   ],
   "source": [
    "# заменяем на 1 и 0 в колонке win\n",
    "d = {False : 0, True : 1}\n",
    "globetable['win'] = globetable['win'].map(d)\n",
    "#удаляем ненужные столбцы\n",
    "globetable.drop(['year_film','film'], axis='columns', inplace=True)\n",
    "\n",
    "#находим индексы нулевых строк которые нужно заполнить\n",
    "all_indexes = globetable[globetable.win.isnull()].index\n",
    "globetable.loc[all_indexes, 'win'] = -1\n",
    "\n",
    "#называем winner в Befta\n",
    "globetable.rename(columns={'win': 'Globe'}, inplace=True)\n",
    "globetable.info()"
   ]
  },
  {
   "cell_type": "code",
   "execution_count": 77,
   "metadata": {},
   "outputs": [
    {
     "name": "stdout",
     "output_type": "stream",
     "text": [
      "<class 'pandas.core.frame.DataFrame'>\n",
      "Int64Index: 9999 entries, 0 to 11024\n",
      "Data columns (total 14 columns):\n",
      " #   Column       Non-Null Count  Dtype  \n",
      "---  ------       --------------  -----  \n",
      " 0   Rank         9999 non-null   int64  \n",
      " 1   Title        9999 non-null   object \n",
      " 2   Year         9999 non-null   int64  \n",
      " 3   Score        9999 non-null   float64\n",
      " 4   Metascore    9999 non-null   float64\n",
      " 5   Genre        9999 non-null   object \n",
      " 6   Vote         9999 non-null   int64  \n",
      " 7   Director     9999 non-null   object \n",
      " 8   Runtime      9999 non-null   int64  \n",
      " 9   Revenue      9999 non-null   float64\n",
      " 10  Description  9999 non-null   object \n",
      " 11  Oscar        9999 non-null   float64\n",
      " 12  Befta        9999 non-null   float64\n",
      " 13  Globe        9999 non-null   float64\n",
      "dtypes: float64(6), int64(4), object(4)\n",
      "memory usage: 1.1+ MB\n"
     ]
    }
   ],
   "source": [
    "# сортируем по названию и победил/номинант/не номинант, для сортировки\n",
    "globetable=globetable.sort_values(by=['Title', 'Globe'], ascending=[True, False])\n",
    "#тестовая проверка\n",
    "#oscartable[oscartable['Title'] == 'The Dark Knight']\n",
    "#удаляем дубли из-за разных номинаций\n",
    "globetable.drop_duplicates(subset =['Title','Year'], \n",
    "                     keep = 'first', inplace = True)\n",
    "#тестовая проверка\n",
    "#oscartable[oscartable['Title'] == 'The Dark Knight']\n",
    "fulltable = globetable\n",
    "#должно быть 9699\n",
    "fulltable.info()"
   ]
  },
  {
   "cell_type": "code",
   "execution_count": 78,
   "metadata": {},
   "outputs": [
    {
     "name": "stdout",
     "output_type": "stream",
     "text": [
      "<class 'pandas.core.frame.DataFrame'>\n",
      "Int64Index: 9999 entries, 0 to 11024\n",
      "Data columns (total 15 columns):\n",
      " #   Column       Non-Null Count  Dtype  \n",
      "---  ------       --------------  -----  \n",
      " 0   Rank         9999 non-null   int64  \n",
      " 1   Title        9999 non-null   object \n",
      " 2   Year         9999 non-null   int64  \n",
      " 3   Score        9999 non-null   float64\n",
      " 4   Metascore    9999 non-null   float64\n",
      " 5   Genre        9999 non-null   object \n",
      " 6   Vote         9999 non-null   int64  \n",
      " 7   Director     9999 non-null   object \n",
      " 8   Runtime      9999 non-null   int64  \n",
      " 9   Revenue      9999 non-null   float64\n",
      " 10  Description  9999 non-null   object \n",
      " 11  Oscar        9999 non-null   float64\n",
      " 12  Befta        9999 non-null   float64\n",
      " 13  Globe        9999 non-null   float64\n",
      " 14  win          9999 non-null   float64\n",
      "dtypes: float64(7), int64(4), object(4)\n",
      "memory usage: 1.2+ MB\n"
     ]
    }
   ],
   "source": [
    "fulltable.loc[:, 'win'] = 0\n",
    "fulltable['win'] = fulltable[['Oscar','Befta','Globe']].max(axis =1)\n",
    "fulltable.info()"
   ]
  },
  {
   "cell_type": "code",
   "execution_count": 81,
   "metadata": {},
   "outputs": [
    {
     "name": "stdout",
     "output_type": "stream",
     "text": [
      "<class 'pandas.core.frame.DataFrame'>\n",
      "Int64Index: 3000 entries, 7911 to 9896\n",
      "Data columns (total 15 columns):\n",
      " #   Column       Non-Null Count  Dtype  \n",
      "---  ------       --------------  -----  \n",
      " 0   Rank         3000 non-null   int64  \n",
      " 1   Title        3000 non-null   object \n",
      " 2   Year         3000 non-null   int64  \n",
      " 3   Score        3000 non-null   float64\n",
      " 4   Metascore    3000 non-null   float64\n",
      " 5   Genre        3000 non-null   object \n",
      " 6   Vote         3000 non-null   int64  \n",
      " 7   Director     3000 non-null   object \n",
      " 8   Runtime      3000 non-null   int64  \n",
      " 9   Revenue      3000 non-null   float64\n",
      " 10  Description  3000 non-null   object \n",
      " 11  Oscar        3000 non-null   float64\n",
      " 12  Befta        3000 non-null   float64\n",
      " 13  Globe        3000 non-null   float64\n",
      " 14  win          3000 non-null   float64\n",
      "dtypes: float64(7), int64(4), object(4)\n",
      "memory usage: 375.0+ KB\n"
     ]
    }
   ],
   "source": [
    "from sklearn.model_selection import train_test_split\n",
    "train, test = train_test_split(fulltable, test_size=0.3)\n",
    "test.info()"
   ]
  },
  {
   "cell_type": "code",
   "execution_count": 82,
   "metadata": {},
   "outputs": [
    {
     "data": {
      "text/plain": [
       "LogisticRegression(C=1.0, class_weight=None, dual=False, fit_intercept=True,\n",
       "                   intercept_scaling=1, l1_ratio=None, max_iter=100,\n",
       "                   multi_class='auto', n_jobs=None, penalty='l2',\n",
       "                   random_state=None, solver='lbfgs', tol=0.0001, verbose=0,\n",
       "                   warm_start=False)"
      ]
     },
     "execution_count": 82,
     "metadata": {},
     "output_type": "execute_result"
    }
   ],
   "source": [
    "from sklearn import metrics\n",
    "from sklearn.linear_model import LogisticRegression\n",
    "model = LogisticRegression()\n",
    "X=train[['Score', 'Revenue', 'Vote']]\n",
    "y=train.win\n",
    "#X=train['Score']\n",
    "#y=train.winner\n",
    "model.fit(X, y)"
   ]
  },
  {
   "cell_type": "code",
   "execution_count": 83,
   "metadata": {},
   "outputs": [
    {
     "name": "stdout",
     "output_type": "stream",
     "text": [
      "              precision    recall  f1-score   support\n",
      "\n",
      "        -1.0       0.83      0.99      0.90      2452\n",
      "         0.0       0.28      0.02      0.04       320\n",
      "         1.0       0.65      0.06      0.10       228\n",
      "\n",
      "    accuracy                           0.82      3000\n",
      "   macro avg       0.59      0.36      0.35      3000\n",
      "weighted avg       0.75      0.82      0.75      3000\n",
      "\n",
      "[[  13    7  208]\n",
      " [   5    7  308]\n",
      " [   2   11 2439]]\n"
     ]
    }
   ],
   "source": [
    "expected = test.win\n",
    "predicted = model.predict(test[['Score', 'Revenue', 'Vote']])\n",
    "# summarize the fit of the model\n",
    "print(metrics.classification_report(expected, predicted))\n",
    "print(metrics.confusion_matrix(expected, predicted,labels=[1,0,-1]))"
   ]
  },
  {
   "cell_type": "code",
   "execution_count": 84,
   "metadata": {},
   "outputs": [
    {
     "name": "stdout",
     "output_type": "stream",
     "text": [
      ",Rank,Title,Year,Score,Metascore,Genre,Vote,Director,Runtime,Revenue,Description,Oscar,Befta,Globe,win\r\n",
      "0,3166,'71,2014,7.2,83.0,\"Action, Drama, Thriller\",44532,Yann Demange,99,1.27,\"In 1971, a young and disorientated British soldier is accidentally abandoned by his unit following a riot on the deadly streets of Belfast.\",-1.0,-1.0,-1.0,-1.0\r\n",
      "1,6646,'A' gai wak,1983,7.4,-1.0,\"Action, Comedy\",12657,Jackie Chan,105,-1.0,\"Fighting against pirates in \"\"old Hong Kong\"\". Chinese costume drama with plenty of over-the-top tongue in cheek action and music.\",-1.0,-1.0,-1.0,-1.0\r\n",
      "2,8656,'A' gai wak 2,1987,7.2,-1.0,\"Action, Comedy, Crime\",7739,Jackie Chan,101,-1.0,\"Dragon is now transferred to be the police head of Sai Wan district, and has to contend with a gangster kingpin, anti-Manchu revolutionaries, some runaway pirates, Manchu Loyalists and a corrupt Police Superintendent.\",-1.0,-1.0,-1.0,-1.0\r\n",
      "3,9287,'I Know Where I'm Going!',1945,7.6,-1.0,\"Drama, Romance\",6861,Michael Powell,91,-1.0,\"A young Englishwoman goes to the Hebrides to marry her older, wealthier fiancé. When the weather keeps them separated on different islands, she begins to have second thoughts.\",-1.0,-1.0,-1.0,-1.0\r\n",
      "4,6795,(T)Raumschiff Surprise - Periode 1,2004,5.4,-1.0,\"Comedy, Sci-Fi\",12158,Michael Herbig,87,-1.0,\"Three hundred years in the future, Mars is colonized by humans and their leader Regulator Rogul plans to conquer Earth. Queen Königin Metapha is advised to send the gays Captain Kork, the ...                See full summary »\",-1.0,-1.0,-1.0,-1.0\r\n",
      "\n"
     ]
    }
   ],
   "source": [
    "print(fulltable[:5].to_csv())"
   ]
  },
  {
   "cell_type": "code",
   "execution_count": 94,
   "metadata": {},
   "outputs": [],
   "source": [
    "fulltable.to_csv (r'data_new.csv', index = False)"
   ]
  }
 ],
 "metadata": {
  "kernelspec": {
   "display_name": "Python 3",
   "language": "python",
   "name": "python3"
  },
  "language_info": {
   "codemirror_mode": {
    "name": "ipython",
    "version": 3
   },
   "file_extension": ".py",
   "mimetype": "text/x-python",
   "name": "python",
   "nbconvert_exporter": "python",
   "pygments_lexer": "ipython3",
   "version": "3.7.6"
  }
 },
 "nbformat": 4,
 "nbformat_minor": 4
}
